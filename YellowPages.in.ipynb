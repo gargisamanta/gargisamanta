{
 "cells": [
  {
   "cell_type": "code",
   "execution_count": 1,
   "id": "81591a9d",
   "metadata": {},
   "outputs": [],
   "source": [
    "# Import the libraries\n",
    "import pandas as pd\n",
    "import selenium\n",
    "import time\n",
    "from selenium import webdriver\n",
    "\n",
    "import warnings\n",
    "warnings.filterwarnings(\"ignore\")"
   ]
  },
  {
   "cell_type": "code",
   "execution_count": 2,
   "id": "346a7677",
   "metadata": {},
   "outputs": [],
   "source": [
    "# Activating the chrome browser\n",
    "driver=webdriver.Chrome(r\"C:\\Users\\saman\\Downloads\\chromedriver_win32\\chromedriver.exe\") \n"
   ]
  },
  {
   "cell_type": "code",
   "execution_count": 3,
   "id": "33fb9d52",
   "metadata": {},
   "outputs": [],
   "source": [
    "# Load the url\n",
    "\n",
    "driver.get(\"http://yellowpages.in/\")\n",
    "time.sleep(1)"
   ]
  },
  {
   "cell_type": "code",
   "execution_count": 4,
   "id": "ee074c6c",
   "metadata": {},
   "outputs": [],
   "source": [
    "# exploring the locations\n",
    "all_types=[]\n",
    "\n",
    "for i in driver.find_elements_by_xpath(\"//ul[@class='homeCategoriesList']/li/a\"):\n",
    "    all_types.append(i.get_attribute('href'))"
   ]
  },
  {
   "cell_type": "code",
   "execution_count": 5,
   "id": "94246aaa",
   "metadata": {},
   "outputs": [
    {
     "data": {
      "text/plain": [
       "['http://yellowpages.in/hyderabad/apparels-and-accessories/110497301',\n",
       " 'http://yellowpages.in/hyderabad/food-and-beverages/606286653',\n",
       " 'http://yellowpages.in/hyderabad/beauty-and-wellness/256159214',\n",
       " 'http://yellowpages.in/hyderabad/education/421330778',\n",
       " 'http://yellowpages.in/hyderabad/health/232049079',\n",
       " 'http://yellowpages.in/hyderabad/wedding-and-events/604647890',\n",
       " 'http://yellowpages.in/hyderabad/logistics-services/195433585',\n",
       " 'http://yellowpages.in/hyderabad/printing-and-stationaries/655042489']"
      ]
     },
     "execution_count": 5,
     "metadata": {},
     "output_type": "execute_result"
    }
   ],
   "source": [
    "all_types"
   ]
  },
  {
   "cell_type": "code",
   "execution_count": 6,
   "id": "81f8abfa",
   "metadata": {},
   "outputs": [],
   "source": [
    "store_name=[]\n",
    "rating=[]\n",
    "timing=[]\n",
    "Popularity=[]\n",
    "contact=[]\n",
    "acc=[]\n"
   ]
  },
  {
   "cell_type": "code",
   "execution_count": 7,
   "id": "44fa492c",
   "metadata": {},
   "outputs": [],
   "source": [
    "for i in all_types:\n",
    "    driver.get(i)\n",
    "    for i in range(25):\n",
    "        try:\n",
    "            \n",
    "            driver.find_element_by_xpath(\"//button[@class='loadMoreBtn']\").click()\n",
    "            time.sleep(1)\n",
    "        except:\n",
    "            continue\n",
    "    acc_name=driver.find_element_by_xpath(\"//div[@class='resultsText']\").text.split(' ')[3:4]\n",
    "    \n",
    "    for j in driver.find_elements_by_xpath(\"//div[@class='popularTitleTextBlock']\"):\n",
    "        store_name.append(j.text)\n",
    "    \n",
    "    for j in driver.find_elements_by_xpath(\"//div[@class='eachPopularRatingBlock']\"):\n",
    "        rating.append(j.text)\n",
    "    for j in driver.find_elements_by_xpath(\"//div[@class='openNow']\"):\n",
    "        timing.append(j.text)\n",
    "    for j in driver.find_elements_by_xpath(\"//ul[@class='eachPopularTagsList']\"):\n",
    "        Popularity.append(j.text)\n",
    "    for j in driver.find_elements_by_xpath(\"//a[@class='businessContact']\"):\n",
    "        contact.append(j.text)\n",
    "    \n",
    "   \n",
    "    for k in range (len(driver.find_elements_by_xpath(\"//ul[@class='eachPopularTagsList']\"))):   \n",
    "         acc.append(acc_name)\n",
    "    "
   ]
  },
  {
   "cell_type": "code",
   "execution_count": 8,
   "id": "3aa65d08",
   "metadata": {},
   "outputs": [
    {
     "data": {
      "text/plain": [
       "2221"
      ]
     },
     "execution_count": 8,
     "metadata": {},
     "output_type": "execute_result"
    }
   ],
   "source": [
    "len(rating)"
   ]
  },
  {
   "cell_type": "code",
   "execution_count": 9,
   "id": "f5ebe120",
   "metadata": {},
   "outputs": [
    {
     "data": {
      "text/plain": [
       "2196"
      ]
     },
     "execution_count": 9,
     "metadata": {},
     "output_type": "execute_result"
    }
   ],
   "source": [
    "len(store_name)"
   ]
  },
  {
   "cell_type": "code",
   "execution_count": 10,
   "id": "0ea9c3a0",
   "metadata": {},
   "outputs": [
    {
     "data": {
      "text/plain": [
       "2221"
      ]
     },
     "execution_count": 10,
     "metadata": {},
     "output_type": "execute_result"
    }
   ],
   "source": [
    "len(timing)"
   ]
  },
  {
   "cell_type": "code",
   "execution_count": 11,
   "id": "348aa483",
   "metadata": {},
   "outputs": [
    {
     "data": {
      "text/plain": [
       "2202"
      ]
     },
     "execution_count": 11,
     "metadata": {},
     "output_type": "execute_result"
    }
   ],
   "source": [
    "len(Popularity)"
   ]
  },
  {
   "cell_type": "code",
   "execution_count": 13,
   "id": "c10d5c1f",
   "metadata": {},
   "outputs": [
    {
     "data": {
      "text/plain": [
       "2221"
      ]
     },
     "execution_count": 13,
     "metadata": {},
     "output_type": "execute_result"
    }
   ],
   "source": [
    "len(contact)"
   ]
  },
  {
   "cell_type": "code",
   "execution_count": 14,
   "id": "db697b71",
   "metadata": {},
   "outputs": [
    {
     "data": {
      "text/plain": [
       "2202"
      ]
     },
     "execution_count": 14,
     "metadata": {},
     "output_type": "execute_result"
    }
   ],
   "source": [
    "len(acc)"
   ]
  },
  {
   "cell_type": "code",
   "execution_count": 15,
   "id": "85c3274c",
   "metadata": {},
   "outputs": [
    {
     "data": {
      "text/html": [
       "<div>\n",
       "<style scoped>\n",
       "    .dataframe tbody tr th:only-of-type {\n",
       "        vertical-align: middle;\n",
       "    }\n",
       "\n",
       "    .dataframe tbody tr th {\n",
       "        vertical-align: top;\n",
       "    }\n",
       "\n",
       "    .dataframe thead th {\n",
       "        text-align: right;\n",
       "    }\n",
       "</style>\n",
       "<table border=\"1\" class=\"dataframe\">\n",
       "  <thead>\n",
       "    <tr style=\"text-align: right;\">\n",
       "      <th></th>\n",
       "      <th>store_name</th>\n",
       "      <th>rating</th>\n",
       "      <th>timing</th>\n",
       "      <th>Popularity</th>\n",
       "      <th>contact</th>\n",
       "    </tr>\n",
       "  </thead>\n",
       "  <tbody>\n",
       "    <tr>\n",
       "      <th>0</th>\n",
       "      <td>Upendra Handlooms Textiles</td>\n",
       "      <td>1 review</td>\n",
       "      <td>Open - until 8:00PM</td>\n",
       "      <td>Handlooms, Sarees &amp; Blouses</td>\n",
       "      <td>+91 9666675463</td>\n",
       "    </tr>\n",
       "    <tr>\n",
       "      <th>1</th>\n",
       "      <td>Arvind Store</td>\n",
       "      <td>1 review</td>\n",
       "      <td>Open - until 9:30PM</td>\n",
       "      <td>Garments, Pants, Ready Made Garments</td>\n",
       "      <td>+91 40 23030314</td>\n",
       "    </tr>\n",
       "    <tr>\n",
       "      <th>2</th>\n",
       "      <td>Cobb Apparels Private Limited</td>\n",
       "      <td>0 reviews</td>\n",
       "      <td>Open - until 10:00PM</td>\n",
       "      <td>Garments, Jeans, Pants</td>\n",
       "      <td>+91 7661010960</td>\n",
       "    </tr>\n",
       "    <tr>\n",
       "      <th>3</th>\n",
       "      <td>The Arvind Store</td>\n",
       "      <td>0 reviews</td>\n",
       "      <td>Open - until 10:00PM</td>\n",
       "      <td>Garments, Jeans, Lifestyle Accessories</td>\n",
       "      <td>+91 9603139789</td>\n",
       "    </tr>\n",
       "    <tr>\n",
       "      <th>4</th>\n",
       "      <td>Denim Fashion Showroom</td>\n",
       "      <td>1 review</td>\n",
       "      <td>Open - until 9:30PM</td>\n",
       "      <td>Garments, Pants, Ready Made Garments</td>\n",
       "      <td>+91 8801473960</td>\n",
       "    </tr>\n",
       "    <tr>\n",
       "      <th>...</th>\n",
       "      <td>...</td>\n",
       "      <td>...</td>\n",
       "      <td>...</td>\n",
       "      <td>...</td>\n",
       "      <td>...</td>\n",
       "    </tr>\n",
       "    <tr>\n",
       "      <th>1995</th>\n",
       "      <td>Kushal Jewellers</td>\n",
       "      <td>0 reviews</td>\n",
       "      <td>Open - until 9:00PM</td>\n",
       "      <td>Tent Houses</td>\n",
       "      <td>+91 9440714140</td>\n",
       "    </tr>\n",
       "    <tr>\n",
       "      <th>1996</th>\n",
       "      <td>B. K. Florist</td>\n",
       "      <td>0 reviews</td>\n",
       "      <td>Open - until 10:00PM</td>\n",
       "      <td>Jewellery</td>\n",
       "      <td>+91 040 65656789</td>\n",
       "    </tr>\n",
       "    <tr>\n",
       "      <th>1997</th>\n",
       "      <td>Sri Sai Santhoshi Jewellers</td>\n",
       "      <td>0 reviews</td>\n",
       "      <td>Open - until 10:00PM</td>\n",
       "      <td>Florists</td>\n",
       "      <td>+91 9010031555</td>\n",
       "    </tr>\n",
       "    <tr>\n",
       "      <th>1998</th>\n",
       "      <td>Tarun Florist</td>\n",
       "      <td>0 reviews</td>\n",
       "      <td>Open - until 9:00PM</td>\n",
       "      <td>Photo Frames, Photographers, Photo Studios</td>\n",
       "      <td>+91 9989998998</td>\n",
       "    </tr>\n",
       "    <tr>\n",
       "      <th>1999</th>\n",
       "      <td>Supriya Digital Studio</td>\n",
       "      <td>0 reviews</td>\n",
       "      <td>Open - until 9:00PM</td>\n",
       "      <td>Tent Houses</td>\n",
       "      <td>+91 9247395999</td>\n",
       "    </tr>\n",
       "  </tbody>\n",
       "</table>\n",
       "<p>2000 rows × 5 columns</p>\n",
       "</div>"
      ],
      "text/plain": [
       "                         store_name     rating                timing  \\\n",
       "0        Upendra Handlooms Textiles   1 review   Open - until 8:00PM   \n",
       "1                      Arvind Store   1 review   Open - until 9:30PM   \n",
       "2     Cobb Apparels Private Limited  0 reviews  Open - until 10:00PM   \n",
       "3                  The Arvind Store  0 reviews  Open - until 10:00PM   \n",
       "4            Denim Fashion Showroom   1 review   Open - until 9:30PM   \n",
       "...                             ...        ...                   ...   \n",
       "1995               Kushal Jewellers  0 reviews   Open - until 9:00PM   \n",
       "1996                  B. K. Florist  0 reviews  Open - until 10:00PM   \n",
       "1997    Sri Sai Santhoshi Jewellers  0 reviews  Open - until 10:00PM   \n",
       "1998                  Tarun Florist  0 reviews   Open - until 9:00PM   \n",
       "1999         Supriya Digital Studio  0 reviews   Open - until 9:00PM   \n",
       "\n",
       "                                      Popularity           contact  \n",
       "0                    Handlooms, Sarees & Blouses    +91 9666675463  \n",
       "1           Garments, Pants, Ready Made Garments   +91 40 23030314  \n",
       "2                         Garments, Jeans, Pants    +91 7661010960  \n",
       "3         Garments, Jeans, Lifestyle Accessories    +91 9603139789  \n",
       "4           Garments, Pants, Ready Made Garments    +91 8801473960  \n",
       "...                                          ...               ...  \n",
       "1995                                 Tent Houses    +91 9440714140  \n",
       "1996                                   Jewellery  +91 040 65656789  \n",
       "1997                                    Florists    +91 9010031555  \n",
       "1998  Photo Frames, Photographers, Photo Studios    +91 9989998998  \n",
       "1999                                 Tent Houses    +91 9247395999  \n",
       "\n",
       "[2000 rows x 5 columns]"
      ]
     },
     "execution_count": 15,
     "metadata": {},
     "output_type": "execute_result"
    }
   ],
   "source": [
    "# creating the dataframe\n",
    "data=pd.DataFrame()\n",
    "data['store_name']=store_name[:2000]\n",
    "data['rating']=rating[:2000]\n",
    "data['timing']=timing[:2000]\n",
    "data['Popularity']=Popularity[:2000]\n",
    "data['contact']=contact[:2000]\n",
    "data"
   ]
  },
  {
   "cell_type": "code",
   "execution_count": null,
   "id": "748eb042",
   "metadata": {},
   "outputs": [],
   "source": []
  },
  {
   "cell_type": "code",
   "execution_count": null,
   "id": "fcfff786",
   "metadata": {},
   "outputs": [],
   "source": []
  }
 ],
 "metadata": {
  "kernelspec": {
   "display_name": "Python 3 (ipykernel)",
   "language": "python",
   "name": "python3"
  },
  "language_info": {
   "codemirror_mode": {
    "name": "ipython",
    "version": 3
   },
   "file_extension": ".py",
   "mimetype": "text/x-python",
   "name": "python",
   "nbconvert_exporter": "python",
   "pygments_lexer": "ipython3",
   "version": "3.9.7"
  }
 },
 "nbformat": 4,
 "nbformat_minor": 5
}
